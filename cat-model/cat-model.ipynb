{
 "metadata": {
  "name": ""
 },
 "nbformat": 3,
 "nbformat_minor": 0,
 "worksheets": [
  {
   "cells": [
    {
     "cell_type": "markdown",
     "metadata": {},
     "source": [
      "CAT Model\n",
      "==========\n",
      "\n",
      "Key assumptions\n",
      "-----------------\n",
      "\n",
      "   * Amino acid replacement at different sites along a protein alignment can have a distinct substitional process\n",
      "   * Sites are distributed according to a mixture of $K$ distinct classes\n",
      "   * Each class is characterized by a substitution matrix $Q^{k}$ \n",
      "\n",
      "Model variables\n",
      "-----------------\n",
      "  \n",
      "   * Let $\\pi = \\{\\pi_{1}, \\ldots \\pi_{20}\\}$ be the equlibrium frequencies s.t. $\\sum_{l=1}^{20} \\pi_{l} = 1$.\n",
      "   * Let $\\rho_{lm}$ be the exchangeability parameters that are assumed to hold the relation\n",
      "   \n",
      "$$\\begin{align}\n",
      "Q_{lm} &= \\frac{1}{Z} \\rho_{lm} \\pi_{m}, l \\neq m\\\\\n",
      "Q_{ll} &= -\\sum_{m \\neq l} Q_{lm}\n",
      "\\end{align}$$\n",
      "\n",
      "The process is assumed to be reversible $Q_{lm} = Q_{ml}$ and the matrix is scaled to 1 using the normalizing constant\n",
      "\n",
      "$$\\begin{equation}\n",
      " Z = 2 \\times \\sum_{1 \\leq l \\leq m \\leq 20} \\rho_{lm} \\pi_{l} \\pi_{m}\n",
      "\\end{equation}$$\n",
      "\n",
      "Branch lengths are measured in the expected number of substitutions per site.  From $Q$ we can get the transition probability matrix.\n",
      "\n",
      "\\begin{equation}\n",
      "P(v) = e^{vQ}\n",
      "\\end{equation}\n",
      "\n",
      "which specifies the probability that amino-acid $l$ changes into $m$ over an evolutionary distance of $v$.  Each class has it's own substitution matrix $Q^{k}$.  Classes are indicated by the vector $z=z_{1}, \\ldots, z_{N}$ where $z_{i} \\in \\{1,\\ldots,K\\}$.\n",
      "\n",
      "Model considers only mixtures of matrices having all the same set of relative rates $\\rho$, but different stationary probabilities $\\pi^{k}$.\n",
      "\n",
      "$$\\begin{align}\n",
      "Q^{k}_{lm} &= \\frac{1}{Z^{k}} \\rho_{lm} \\pi^{k}_{m}, l \\neq m\\\\\n",
      "Q^{k}_{ll} &= -\\sum_{m \\neq l} Q_{lm}^{k}\n",
      "\\end{align}$$\n",
      "\n",
      "$$\\begin{equation}\n",
      " Z^{k} = 2 \\times \\sum_{1 \\leq l \\leq m \\leq 20} \\rho_{lm} \\pi_{l}^{k} \\pi_{m}^{k}\n",
      "\\end{equation}$$\n",
      "\n",
      "This normalization helps give the branch lengths the same meaning under different classes.\n",
      "\n",
      "Because a class is entirely characterized by its $\\pi$-vector it also referred to as its *profile*.\n",
      "\n",
      "$\\rho_{lm}$ can be fixed to prespecified values allowing for different models.\n",
      "\n",
      "   * relative rates all set to unity -- sites are described by a mixture of Poisson processes\n",
      "   * known emprical matrices CAT-JTT, CAT-mtREV\n",
      "   * let the relative rates be free parameters CAT-GTR s.t. $\\sum \\rho_{lm} = 1$ (lower triangle only)\n",
      "   \n",
      "We are trying to infer the site-specific rates ($\\rho$), the substitution matrixes ($Q$) and the allocation variables ($z$).   \n",
      "\n",
      "\n"
     ]
    },
    {
     "cell_type": "markdown",
     "metadata": {},
     "source": [
      "MCMC strategy\n",
      "===============\n",
      "\n",
      "   * relies on analytical conjugacy properties \n",
      "   * alternates betwee *data augmentation* and *Gibbs sampling* \n",
      "   * data augmentation - sample the substitution history for ea. site across the whole tree\n",
      "   * update the parameters with Gibbs sampling\n",
      "   * compared to Metropolis Hastings MCMC\n",
      "   * allows us to assume a site-specific substituion process **and** use MCMC\n",
      "    \n",
      "This makes [PyMC](http://pymc-devs.github.io/pymc/) the a great sandbox for exploration\n"
     ]
    },
    {
     "cell_type": "code",
     "collapsed": false,
     "input": [
      "import numpy as np\n",
      "import pymc\n",
      "\n",
      "lambd = 1\n",
      "theta = pymc.Exponential('theta', beta=lambd)\n",
      " \n",
      "@pymc.deterministic(plot=False)\n",
      "def infer_y(value=0, c=theta):\n",
      "    return np.log(c)\n",
      " \n",
      "M = pymc.Model([theta, infer_y])\n",
      "for i in range(3):\n",
      "    M.draw_from_prior()\n",
      "    print (theta.value, infer_y.value)"
     ],
     "language": "python",
     "metadata": {},
     "outputs": [
      {
       "output_type": "stream",
       "stream": "stdout",
       "text": [
        "(array(0.2534379408797936), -1.3726362950742392)\n",
        "(array(0.8629812919757401), -0.14736226602969182)\n",
        "(array(0.20463089658519615), -1.5865474271626123)\n"
       ]
      }
     ],
     "prompt_number": 31
    },
    {
     "cell_type": "markdown",
     "metadata": {},
     "source": [
      "In the 2007 paper they refer to the *profile* as $y_{i}$.  Alternate between MCMC updates of $\\theta$ conditional on the current value of $y$.  Updates of $y$ are conditional on $\\theta$.  $\\theta$ is tree branch length and the rest of the variables."
     ]
    },
    {
     "cell_type": "markdown",
     "metadata": {},
     "source": [
      "##Simulations\n",
      "\n",
      "Make up classes of amino-acids that correspond to the physical properties of the molecules.  Essentially, each substitution profile will have a probability weighted towards one of these classes."
     ]
    },
    {
     "cell_type": "code",
     "collapsed": false,
     "input": [
      "import numpy as np\n",
      "aminos = np.array([\"G\",\"A\",\"V\",\"L\",\"I\",\"P\",\"F\",\"Y\",\"W\",\"S\",\\\n",
      "              \"T\",\"C\",\"M\",\"N\",\"Q\",\"K\",\"R\",\"H\",\"D\",\"E\"])\n",
      "classes = {\"neg\":[\"D\",\"E\"],\\\n",
      "           \"pos\":[\"K\",\"R\",\"H\"],\\\n",
      "           \"pnc\":[\"S\",\"T\",\"C\",\"M\",\"N\",\"Q\"],\\\n",
      "           \"aro\":[\"F\",\"Y\",\"W\"],\\\n",
      "           \"npa\":[\"G\",\"A\",\"V\",\"L\",\"I\",\"P\"]}\n",
      "\n",
      "p = 5         # amino acid sequences\n",
      "N = 20        # sequence length"
     ],
     "language": "python",
     "metadata": {},
     "outputs": [],
     "prompt_number": 2
    },
    {
     "cell_type": "markdown",
     "metadata": {},
     "source": [
      "Create class specific matrices to simulate sequences. Similar to $Q^{k}$. Each column or row approx. represents the equilibrium frequencies $\\pi_{l}$.    "
     ]
    },
    {
     "cell_type": "code",
     "collapsed": false,
     "input": [
      "%matplotlib inline\n",
      "import matplotlib.pyplot as plt\n",
      "import matplotlib as mpl\n",
      "\n",
      "fig = plt.figure(figsize=(6,6))\n",
      "cmap = plt.cm.PuBuGn\n",
      "mat = np.random.normal(1,0.5,(aminos.size,aminos.size))\n",
      "c = 'pos'\n",
      "\n",
      "inds = [np.where(aminos==a)[0][0] for a in classes[c]]\n",
      "for i in inds:\n",
      "    for j in inds:\n",
      "        mat[i,j] = np.random.normal(10,1,1)\n",
      "        mat[j,i] = np.random.normal(10,1,1)\n",
      "\n",
      "for i in range(aminos.size):\n",
      "    mat[i,i] = np.random.normal(20,1,1)\n",
      "mat = mat/mat.sum(axis=1).mean()\n",
      "ax = fig.add_subplot(111)\n",
      "hmap = ax.imshow(mat, interpolation='nearest',aspect='auto',cmap=cmap)\n",
      "_ = ax.set_title(\"class=%s\"%c)\n",
      "_ = ax.set_xticks(range(aminos.size))\n",
      "_ = ax.set_yticks(range(aminos.size))\n",
      "_ = ax.set_xticklabels(aminos)\n",
      "_ = ax.set_yticklabels(aminos)\n",
      "cbar = fig.colorbar(hmap, orientation='vertical')\n",
      "ax.set_aspect(1./ax.get_data_ratio())\n"
     ],
     "language": "python",
     "metadata": {},
     "outputs": [
      {
       "metadata": {},
       "output_type": "display_data",
       "png": "[encoded data removed]",
       "text": [
        "<matplotlib.figure.Figure at 0x7fce75f0bc50>"
       ]
      }
     ],
     "prompt_number": 28
    },
    {
     "cell_type": "markdown",
     "metadata": {},
     "source": [
      "Discussion:\n",
      "\n",
      "   * Which model assumptions are unrealistic?\n",
      "   * "
     ]
    },
    {
     "cell_type": "markdown",
     "metadata": {},
     "source": [
      "## References\n",
      "\n",
      "Lartillot, N. & Philippe, H. A Bayesian mixture model for across-site heterogeneities in the amino-acid replacement process. Molecular biology and evolution, 2004, 21, 1095-109\n",
      "\n",
      "Lartillot, N. Conjugate Gibbs sampling for Bayesian phylogenetic models. Journal of computational biology : a journal of computational molecular cell biology, 2006, 13, 1701-22\n",
      "\n",
      "Rodrigue, N.; Philippe, H. & Lartillot, N. Exploring fast computational strategies for probabilistic phylogenetic analysis Systematic biology, 2007, 56, 711-26\n"
     ]
    },
    {
     "cell_type": "code",
     "collapsed": false,
     "input": [],
     "language": "python",
     "metadata": {},
     "outputs": []
    }
   ],
   "metadata": {}
  }
 ]
}