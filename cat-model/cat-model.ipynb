{
 "metadata": {
  "name": ""
 },
 "nbformat": 3,
 "nbformat_minor": 0,
 "worksheets": [
  {
   "cells": [
    {
     "cell_type": "markdown",
     "metadata": {},
     "source": [
      "CAT Model\n",
      "==========\n",
      "\n",
      "Key assumptions\n",
      "-----------------\n",
      "\n",
      "   * Amino acid replacement at different sites along a protein alignment can have a distinct substitional process\n",
      "   * Sites are distributed according to a mixture of $K$ distinct classes\n",
      "   * Deterministic component \n",
      "\n",
      "Model variables\n",
      "-----------------\n",
      "  \n",
      "   * Let $\\pi = \\{\\pi_{1}, \\ldots \\pi_{20}\\}$ be the equlibrium frequencies s.t. $\\sum_{l=1}^{20} \\pi_{l} = 1$.\n",
      "   * Let $\\rho_{lm}$ be the exchangeability parameters that are assumed to hold the relation\n",
      "   \n",
      "\\begin{align}\n",
      "Q_{lm} &= \\frac{1}{Z} \\rho_{lm} \\pi_{m}, l \\neq m\\\\\n",
      "Q_{ll} &= -\\sum_{m \\neq l} Q_{lm}\n",
      "\\end{align}\n",
      "\n",
      "The process is assumed to be reversible $Q_{lm} = Q_{ml}$ and the matrix is scaled to 1 using the normalizing constant\n",
      "\n",
      "\\begin{equation}\n",
      " Z = 2 \\times \\sum_{1 \\leq l \\leq m \\leq 20} \\rho_{lm} \\pi_{l} \\pi_{m}\n",
      "\\end{equation}\n",
      "\n",
      "Branch lengths are measured in the expected number of substitutions per site.  From $Q$ we can get the transition probability matrix.\n",
      "\n",
      "\\begin{equation}\n",
      "P(v) = e^{vQ}\n",
      "\\end{equation}\n",
      "\n",
      "which specifies the probability that amino-acid $l$ changes into $m$ over an evolutionary distance of $v$.  Each class has it's own substitution matrix $Q^{k}$.  Classes are indicated by the vector $z=z_{1}, \\ldots, z_{N}$ where $z_{i} \\in \\{1,\\ldots,K\\}$.\n",
      "\n"
     ]
    },
    {
     "cell_type": "markdown",
     "metadata": {},
     "source": [
      "Toy Example\n",
      "===============\n",
      "\n",
      "Put together a toy example\n"
     ]
    },
    {
     "cell_type": "code",
     "collapsed": false,
     "input": [
      "2+2"
     ],
     "language": "python",
     "metadata": {},
     "outputs": [
      {
       "output_type": "pyout",
       "prompt_number": 1,
       "text": [
        "4"
       ]
      }
     ],
     "prompt_number": 1
    },
    {
     "cell_type": "markdown",
     "metadata": {},
     "source": [
      "Ideas and dicussion\n",
      "======================\n",
      "\n",
      "   * Why constrain $\\pi$ to sum to 1?  Could a distribution be more flexible?"
     ]
    },
    {
     "cell_type": "markdown",
     "metadata": {},
     "source": [
      "LaTeX: \\alpha^2"
     ]
    },
    {
     "cell_type": "markdown",
     "metadata": {},
     "source": []
    }
   ],
   "metadata": {}
  }
 ]
}