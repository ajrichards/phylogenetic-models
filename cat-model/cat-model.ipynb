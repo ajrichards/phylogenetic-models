{
 "metadata": {
  "name": ""
 },
 "nbformat": 3,
 "nbformat_minor": 0,
 "worksheets": [
  {
   "cells": [
    {
     "cell_type": "markdown",
     "metadata": {},
     "source": [
      "CAT Model\n",
      "==========\n",
      "\n",
      "Key assumptions\n",
      "-----------------\n",
      "\n",
      "   * Amino acid replacement at different sites along a protein alignment can have a distinct substitional process\n",
      "   * Sites are distributed according to a mixture of $K$ distinct classes\n",
      "   * Each class is characterized by a substitution matrix $Q^{k}$ \n",
      "\n",
      "Model variables\n",
      "-----------------\n",
      "  \n",
      "   * Let $\\pi = \\{\\pi_{1}, \\ldots \\pi_{20}\\}$ be the equlibrium frequencies s.t. $\\sum_{l=1}^{20} \\pi_{l} = 1$.\n",
      "   * Let $\\rho_{lm}$ be the exchangeability parameters that are assumed to hold the relation\n",
      "   \n",
      "$$\\begin{align}\n",
      "Q_{lm} &= \\frac{1}{Z} \\rho_{lm} \\pi_{m}, l \\neq m\\\\\n",
      "Q_{ll} &= -\\sum_{m \\neq l} Q_{lm}\n",
      "\\end{align}$$\n",
      "\n",
      "The process is assumed to be reversible $Q_{lm} = Q_{ml}$ and the matrix is scaled to 1 using the normalizing constant\n",
      "\n",
      "$$\\begin{equation}\n",
      " Z = 2 \\times \\sum_{1 \\leq l \\leq m \\leq 20} \\rho_{lm} \\pi_{l} \\pi_{m}\n",
      "\\end{equation}$$\n",
      "\n",
      "Branch lengths are measured in the expected number of substitutions per site.  From $Q$ we can get the transition probability matrix.\n",
      "\n",
      "\\begin{equation}\n",
      "P(v) = e^{vQ}\n",
      "\\end{equation}\n",
      "\n",
      "which specifies the probability that amino-acid $l$ changes into $m$ over an evolutionary distance of $v$.  Each class has it's own substitution matrix $Q^{k}$.  Classes are indicated by the vector $z=z_{1}, \\ldots, z_{N}$ where $z_{i} \\in \\{1,\\ldots,K\\}$.\n",
      "\n",
      "Model considers only mixtures of matrices having all the same set of relative rates $\\rho$, but different stationary probabilities $\\pi^{k}$.\n",
      "\n",
      "$$\\begin{align}\n",
      "Q^{k}_{lm} &= \\frac{1}{Z^{k}} \\rho_{lm} \\pi^{k}_{m}, l \\neq m\\\\\n",
      "Q^{k}_{ll} &= -\\sum_{m \\neq l} Q_{lm}^{k}\n",
      "\\end{align}$$\n",
      "\n",
      "$$\\begin{equation}\n",
      " Z^{k} = 2 \\times \\sum_{1 \\leq l \\leq m \\leq 20} \\rho_{lm} \\pi_{l}^{k} \\pi_{m}^{k}\n",
      "\\end{equation}$$\n",
      "\n",
      "This normalization helps give the branch lengths the same meaning under different classes.\n",
      "\n",
      "Because a class is entirely characterized by its $\\pi$-vector it also referred to as its *profile*.\n",
      "\n",
      "$\\rho_{lm}$ can be fixed to prespecified values allowing for different models.\n",
      "\n",
      "   * relative rates all set to unity -- sites are described by a mixture of Poisson processes\n",
      "   * known emprical matrices CAT-JTT, CAT-mtREV\n",
      "   * let the relative rates be free parameters CAT-GTR s.t. $\\sum \\rho_{lm} = 1$ (lower triangle only)\n",
      "   \n",
      "We are trying to infer the site-specific rates ($\\rho$), the substitution matrixes ($Q$) and the allocation variables ($z$).   \n",
      "\n",
      "\n"
     ]
    },
    {
     "cell_type": "markdown",
     "metadata": {},
     "source": [
      "MCMC strategy\n",
      "===============\n",
      "\n",
      "   * relies on analytical conjugacy properties \n",
      "   * alternates between *data augmentation* and *Gibbs sampling* \n",
      "   * data augmentation - sample the substitution history for ea. site across the whole tree\n",
      "   * update the parameters with Gibbs sampling\n",
      "   * compared to Metropolis Hastings MCMC\n",
      "   * allows us to assume a site-specific substituion process **and** use MCMC\n",
      "    \n",
      "This makes [PyMC](http://pymc-devs.github.io/pymc/) the a great sandbox for exploration\n"
     ]
    },
    {
     "cell_type": "code",
     "collapsed": false,
     "input": [
      "import numpy as np\n",
      "import pymc\n",
      "\n",
      "lambd = 1\n",
      "theta = pymc.Exponential('theta', beta=lambd)\n",
      " \n",
      "@pymc.deterministic(plot=False)\n",
      "def infer_y(value=0, c=theta):\n",
      "    return np.log(c)\n",
      " \n",
      "M = pymc.Model([theta, infer_y])\n",
      "for i in range(3):\n",
      "    M.draw_from_prior()\n",
      "    print (theta.value, infer_y.value)"
     ],
     "language": "python",
     "metadata": {},
     "outputs": [
      {
       "output_type": "stream",
       "stream": "stdout",
       "text": [
        "(array(1.7089070157899648), 0.53585399410437551)\n",
        "(array(1.4030596407374571), 0.33865530965193191)\n",
        "(array(0.5928753252195679), -0.52277114623793763)\n"
       ]
      }
     ],
     "prompt_number": 3
    },
    {
     "cell_type": "markdown",
     "metadata": {},
     "source": [
      "In the 2007 paper they refer to the *profile* as $y_{i}$.  Alternate between MCMC updates of $\\theta$ conditional on the current value of $y$.  Updates of $y$ are conditional on $\\theta$.  $\\theta$ is tree branch length and the rest of the variables."
     ]
    },
    {
     "cell_type": "markdown",
     "metadata": {},
     "source": [
      "##Simulations\n",
      "\n",
      "Make up classes of amino-acids that correspond to the physical properties of the molecules.  Essentially, each substitution profile will have a probability weighted towards one of these classes."
     ]
    },
    {
     "cell_type": "code",
     "collapsed": false,
     "input": [
      "%matplotlib inline\n",
      "import sys,os\n",
      "sys.path.append(os.path.join(\"..\",\"library\"))\n",
      "from Simulations import Simulator\n",
      "import numpy as np\n",
      "import matplotlib.pyplot as plt\n",
      "\n",
      "# instantiate the simulator class\n",
      "sim = Simulator(logFile=\"cat-model.log\")\n",
      "\n",
      "# get a base matrix\n",
      "mat = sim.get_base_matrix()\n",
      "\n",
      "# create a prob matrix for each class and specify the class codon relationships                                                                                                                                                         \n",
      "cMatrices = {}\n",
      "classCodons = {}\n",
      "for c,classAa in sim.pp2aa.iteritems():\n",
      "    _classCodons = []\n",
      "    for aa in classAa:\n",
      "        for codon in sim.aa2codon[aa]:\n",
      "            _classCodons.append(codon)\n",
      "    cMatrices[c] = sim.generate_class_matrix(mat,_classCodons)\n",
      "    classCodons[c] = _classCodons\n",
      "    \n",
      "# generate some sequences\n",
      "seedSeq,seedSeqClasses = sim.generate_codon_sequence(10,cMatrices,classCodons,verbose=True)\n",
      "seq1 = sim.generate_new_sequence(seedSeq,seedSeqClasses,cMatrices,classCodons)\n",
      "seq2 = sim.generate_new_sequence(seedSeq,seedSeqClasses,cMatrices,classCodons)\n",
      "seq3 = sim.generate_new_sequence(seedSeq,seedSeqClasses,cMatrices,classCodons)\n",
      "\n",
      "print \"\\nclass\",\"seed\",\"seq1\",\"seq2\",\"seq3\"\n",
      "for i in range(seedSeq.size):\n",
      "    print seedSeqClasses[i], seedSeq[i], seq1[i], seq2[i], seq3[i]"
     ],
     "language": "python",
     "metadata": {},
     "outputs": [
      {
       "output_type": "stream",
       "stream": "stdout",
       "text": [
        "\n",
        "classes\n",
        "neg ['GAT', 'GAC', 'GAG', 'GAA']\n",
        "pnc ['TCT', 'TCG', 'TCA', 'TCC', 'AGC', 'AGT', 'ACC', 'ACA', 'ACG', 'ACT', 'TGT', 'TGC', 'ATG', 'AAC', 'AAT', 'CAA', 'CAG']\n",
        "npa ['GGT', 'GGG', 'GGA', 'GGC', 'GCA', 'GCC', 'GCG', 'GCT', 'GTA', 'GTC', 'GTG', 'GTT', 'TTA', 'TTG', 'CTC', 'CTT', 'CTG', 'CTA', 'ATC', 'ATA', 'ATT', 'CCT', 'CCG', 'CCA', 'CCC']\n",
        "pos ['AAG', 'AAA', 'CGA', 'CGC', 'CGG', 'CGT', 'AGG', 'AGA', 'CAT', 'CAC']\n",
        "aro ['TTT', 'TTC', 'TAT', 'TAC', 'TGG']\n",
        "\n",
        "class probabilities\n",
        "neg (0.9683281600652899, 0.1)\n",
        "pnc (0.6198658802669548, 0.1)\n",
        "npa (0.579854194734436, 0.1)\n",
        "pos (0.5276389109847355, 0.1)\n",
        "aro (0.9557806990433237, 0.1)\n",
        "\n",
        "class seed seq1 seq2 seq3\n",
        "neg GAT GAC GAA GAT\n",
        "neg ACG ACG ACG ACG\n",
        "neg TCA TCA TCA TCA\n",
        "neg TTT TTT TTT TTT\n",
        "neg TCC TCC TCC TCC\n",
        "neg GAC GAG GAC GAT\n",
        "neg TTC TTC TTC TTC\n",
        "neg TCG TCG TCG TCG\n",
        "pos CCG CCG CCG CCG\n",
        "pos AAT AAT AAT AAT\n"
       ]
      }
     ],
     "prompt_number": 4
    },
    {
     "cell_type": "markdown",
     "metadata": {},
     "source": [
      "Create class specific matrices to simulate sequences. Similar to $Q^{k}$. Each column or row approx. represents the equilibrium frequencies $\\pi_{l}$.    "
     ]
    },
    {
     "cell_type": "markdown",
     "metadata": {},
     "source": [
      "More simulation notes\n",
      "\n",
      "   * CpG speific classes\n",
      "   * classes at the codon level\n",
      "   * general context dependent probabilites"
     ]
    },
    {
     "cell_type": "markdown",
     "metadata": {},
     "source": [
      "## References\n",
      "\n",
      "Lartillot, N. & Philippe, H. A Bayesian mixture model for across-site heterogeneities in the amino-acid replacement process. Molecular biology and evolution, 2004, 21, 1095-109\n",
      "\n",
      "Lartillot, N. Conjugate Gibbs sampling for Bayesian phylogenetic models. Journal of computational biology : a journal of computational molecular cell biology, 2006, 13, 1701-22\n",
      "\n",
      "Rodrigue, N.; Philippe, H. & Lartillot, N. Exploring fast computational strategies for probabilistic phylogenetic analysis Systematic biology, 2007, 56, 711-26\n"
     ]
    },
    {
     "cell_type": "code",
     "collapsed": false,
     "input": [],
     "language": "python",
     "metadata": {},
     "outputs": [],
     "prompt_number": 4
    }
   ],
   "metadata": {}
  }
 ]
}