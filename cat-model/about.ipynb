{
 "metadata": {
  "name": ""
 },
 "nbformat": 3,
 "nbformat_minor": 0,
 "worksheets": [
  {
   "cells": [
    {
     "cell_type": "markdown",
     "metadata": {},
     "source": [
      "About this notebook\n",
      "=====================\n",
      "\n",
      "This notebook uses the [IPython Notebook](http://ipython.org/notebook.html) to communicate ideas, models etc.  The focus is on Bayesian methods for phylogenetic inference. In general we use [PyMC](http://pymc-devs.github.io/pymc/) as a sandbox, [GitHub](https://github.com) as a repository and [Python](http://www.python.org) to glue it together.\n",
      "\n",
      "\n",
      "A major resource (and highly recommended if you do not know it already) is [Cameron Davidson-Pilon's](https://github.com/CamDavidsonPilon) book *Bayesian Methods for Hackers*. The full Github repository is available at [github/Probabilistic-Programming-and-Bayesian-Methods-for-Hackers](https://github.com/CamDavidsonPilon/Probabilistic-Programming-and-Bayesian-Methods-for-Hackers). The other chapters can be found on the project's [homepage](https://camdavidsonpilon.github.io/Probabilistic-Programming-and-Bayesian-Methods-for-Hackers/).  Another resource is a course (see below) by [Chris Fonnesbeck](https://github.com/fonnesbeck) one of the main PyMC developers.   \n",
      "\n",
      "\n",
      " * [IPython notebook introduction](http://ipython.org/ipython-doc/1/interactive/notebook.html)\n",
      " * [Markdown syntax](http://daringfireball.net/projects/markdown/syntax)    \n",
      " * [Advanced Statistical Computing - C Fonnesbeck](https://github.com/fonnesbeck/Bios366)\n",
      "\n",
      "To get started simply download move into the source directory and type\n",
      "> ~$ ipython notebook"
     ]
    },
    {
     "cell_type": "code",
     "collapsed": false,
     "input": [],
     "language": "python",
     "metadata": {},
     "outputs": []
    }
   ],
   "metadata": {}
  }
 ]
}