{
 "metadata": {
  "name": ""
 },
 "nbformat": 3,
 "nbformat_minor": 0,
 "worksheets": [
  {
   "cells": [
    {
     "cell_type": "markdown",
     "metadata": {},
     "source": [
      "## Simulations\n",
      "\n",
      "Exploring the idea of simulating amino acid or nucleotide based sequences in a site-heterogeneous way.  First, create a dictionary that conveniently translates from codon to amino acid and vice versa."
     ]
    },
    {
     "cell_type": "code",
     "collapsed": false,
     "input": [
      "aa2codon = {'CYS': ['TGT', 'TGC'],\\\n",
      "            'ASP': ['GAT', 'GAC'],\\\n",
      "            'SER': ['TCT', 'TCG', 'TCA', 'TCC', 'AGC', 'AGT'],\\\n",
      "            'GLN': ['CAA', 'CAG'],\\\n",
      "            'MET': ['ATG'],\\\n",
      "            'ASN': ['AAC', 'AAT'],\\\n",
      "            'PRO': ['CCT', 'CCG', 'CCA', 'CCC'],\\\n",
      "            'LYS': ['AAG', 'AAA'],\\\n",
      "            'STOP': ['TAG', 'TGA', 'TAA'],\\\n",
      "            'THR': ['ACC', 'ACA', 'ACG', 'ACT'],\\\n",
      "            'PHE': ['TTT', 'TTC'],\\\n",
      "            'ALA': ['GCA', 'GCC', 'GCG', 'GCT'],\\\n",
      "            'GLY': ['GGT', 'GGG', 'GGA', 'GGC'],\\\n",
      "            'ILE': ['ATC', 'ATA', 'ATT'],\\\n",
      "            'LEU': ['TTA', 'TTG', 'CTC', 'CTT', 'CTG', 'CTA'],\\\n",
      "            'HIS': ['CAT', 'CAC'],\\\n",
      "            'ARG': ['CGA', 'CGC', 'CGG', 'CGT', 'AGG', 'AGA'],\\\n",
      "            'TRP': ['TGG'],\\\n",
      "            'VAL': ['GTA', 'GTC', 'GTG', 'GTT'],\\\n",
      "            'GLU': ['GAG', 'GAA'],\\\n",
      "            'TYR': ['TAT', 'TAC']}\n",
      "\n",
      "codon2aa = {}\n",
      "for key,val in aa2codon.iteritems():\n",
      "    for c in val:\n",
      "        codon2aa[c] = key\n",
      "print('total codons: %s'%(len(codon2aa.keys())))"
     ],
     "language": "python",
     "metadata": {},
     "outputs": [
      {
       "output_type": "stream",
       "stream": "stdout",
       "text": [
        "total codons: 64\n"
       ]
      }
     ],
     "prompt_number": 7
    },
    {
     "cell_type": "markdown",
     "metadata": {},
     "source": [
      "We may want to include some information about the physical properties of amino acids in our simulation model"
     ]
    },
    {
     "cell_type": "code",
     "collapsed": false,
     "input": [
      "import numpy as np\n",
      "aminos = np.array([\"G\",\"A\",\"V\",\"L\",\"I\",\"P\",\"F\",\"Y\",\"W\",\"S\",\\\n",
      "              \"T\",\"C\",\"M\",\"N\",\"Q\",\"K\",\"R\",\"H\",\"D\",\"E\"])\n",
      "classes = {\"neg\":[\"D\",\"E\"],\\\n",
      "           \"pos\":[\"K\",\"R\",\"H\"],\\\n",
      "           \"pnc\":[\"S\",\"T\",\"C\",\"M\",\"N\",\"Q\"],\\\n",
      "           \"aro\":[\"F\",\"Y\",\"W\"],\\\n",
      "           \"npa\":[\"G\",\"A\",\"V\",\"L\",\"I\",\"P\"]}"
     ],
     "language": "python",
     "metadata": {},
     "outputs": [],
     "prompt_number": 8
    },
    {
     "cell_type": "markdown",
     "metadata": {},
     "source": [
      "Fix this to be at the codon level"
     ]
    },
    {
     "cell_type": "code",
     "collapsed": false,
     "input": [
      "%matplotlib inline\n",
      "import matplotlib.pyplot as plt\n",
      "import matplotlib as mpl\n",
      "\n",
      "fig = plt.figure(figsize=(6,6))\n",
      "cmap = plt.cm.PuBuGn\n",
      "mat = np.random.normal(1,0.5,(aminos.size,aminos.size))\n",
      "c = 'npa'\n",
      "\n",
      "inds = [np.where(aminos==a)[0][0] for a in classes[c]]\n",
      "for i in inds:\n",
      "    for j in inds:\n",
      "        mat[i,j] = np.random.normal(10,1,1)\n",
      "        mat[j,i] = np.random.normal(10,1,1)\n",
      "\n",
      "for i in range(aminos.size):\n",
      "    mat[i,i] = np.random.normal(20,1,1)\n",
      "mat = mat/mat.sum(axis=1).mean()\n",
      "ax = fig.add_subplot(111)\n",
      "hmap = ax.imshow(mat, interpolation='nearest',aspect='auto',cmap=cmap)\n",
      "_ = ax.set_title(\"class=%s\"%c)\n",
      "_ = ax.set_xticks(range(aminos.size))\n",
      "_ = ax.set_yticks(range(aminos.size))\n",
      "_ = ax.set_xticklabels(aminos)\n",
      "_ = ax.set_yticklabels(aminos)\n",
      "cbar = fig.colorbar(hmap, orientation='vertical')\n",
      "ax.set_aspect(1./ax.get_data_ratio())\n"
     ],
     "language": "python",
     "metadata": {},
     "outputs": [
      {
       "metadata": {},
       "output_type": "display_data",
       "png": "[encoded data removed]",
       "text": [
        "<matplotlib.figure.Figure at 0x7fce435f5e90>"
       ]
      }
     ],
     "prompt_number": 32
    },
    {
     "cell_type": "markdown",
     "metadata": {},
     "source": [
      "More simulation notes\n",
      "\n",
      "   * CpG speific classes\n",
      "   * classes at the codon level\n",
      "   * general context dependent probabilites"
     ]
    },
    {
     "cell_type": "markdown",
     "metadata": {},
     "source": [
      "## References\n",
      "\n",
      "Lartillot, N. & Philippe, H. A Bayesian mixture model for across-site heterogeneities in the amino-acid replacement process. Molecular biology and evolution, 2004, 21, 1095-109\n",
      "\n",
      "Lartillot, N. Conjugate Gibbs sampling for Bayesian phylogenetic models. Journal of computational biology : a journal of computational molecular cell biology, 2006, 13, 1701-22\n",
      "\n",
      "Rodrigue, N.; Philippe, H. & Lartillot, N. Exploring fast computational strategies for probabilistic phylogenetic analysis Systematic biology, 2007, 56, 711-26\n"
     ]
    },
    {
     "cell_type": "code",
     "collapsed": false,
     "input": [],
     "language": "python",
     "metadata": {},
     "outputs": []
    }
   ],
   "metadata": {}
  }
 ]
}