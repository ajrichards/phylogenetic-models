{
 "cells": [
  {
   "cell_type": "markdown",
   "metadata": {},
   "source": [
    "LDA on Trees \n",
    "=====================\n",
    "\n",
    "The goal of this study is to look at some of the potential uses of LDA in phylogenetic inference.  The major components of this project are:\n",
    "\n",
    " 1. Create a transition count matrix from a tree \n",
    " 2. Run LDA on substition count matrices as a controlled example\n",
    " 3. Run LDA on more interesting examples\n",
    "\n",
    "## More about Ipython Notebooks and the methods herein\n",
    "\n",
    "This notebook uses the [IPython Notebook](http://ipython.org/notebook.html) to communicate ideas, models etc.  The focus is on Bayesian methods for phylogenetic inference. In general we use [PyMC](http://pymc-devs.github.io/pymc/) as a sandbox, [GitHub](https://github.com) as a repository and [Python](http://www.python.org) to glue it together.\n",
    "\n",
    "A major resource (and highly recommended if you do not know it already) is [Cameron Davidson-Pilon's](https://github.com/CamDavidsonPilon) book *Bayesian Methods for Hackers*. The full Github repository is available at [github/Probabilistic-Programming-and-Bayesian-Methods-for-Hackers](https://github.com/CamDavidsonPilon/Probabilistic-Programming-and-Bayesian-Methods-for-Hackers). The other chapters can be found on the project's [homepage](https://camdavidsonpilon.github.io/Probabilistic-Programming-and-Bayesian-Methods-for-Hackers/).  Another resource is a course (see below) by [Chris Fonnesbeck](https://github.com/fonnesbeck) one of the main PyMC developers.   \n",
    "\n",
    "\n",
    " * [IPython notebook introduction](http://ipython.org/ipython-doc/1/interactive/notebook.html)\n",
    " * [Markdown syntax](http://daringfireball.net/projects/markdown/syntax)    \n",
    " * [Advanced Statistical Computing - C Fonnesbeck](https://github.com/fonnesbeck/Bios366)\n",
    "\n",
    "To get started simply download move into the source directory and type\n",
    "> ~$ ipython notebook"
   ]
  },
  {
   "cell_type": "code",
   "execution_count": null,
   "metadata": {
    "collapsed": false
   },
   "outputs": [],
   "source": []
  }
 ],
 "metadata": {
  "kernelspec": {
   "display_name": "Python 2",
   "language": "python",
   "name": "python2"
  },
  "language_info": {
   "codemirror_mode": {
    "name": "ipython",
    "version": 2
   },
   "file_extension": ".py",
   "mimetype": "text/x-python",
   "name": "python",
   "nbconvert_exporter": "python",
   "pygments_lexer": "ipython2",
   "version": "2.7.6"
  }
 },
 "nbformat": 4,
 "nbformat_minor": 0
}
